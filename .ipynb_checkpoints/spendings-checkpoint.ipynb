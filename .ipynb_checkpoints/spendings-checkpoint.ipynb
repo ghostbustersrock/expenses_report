{
 "cells": [
  {
   "cell_type": "code",
   "execution_count": 193,
   "metadata": {},
   "outputs": [],
   "source": [
    "import pandas as pd  # For dataframes\n",
    "import matplotlib.pyplot as plt  # For graphs\n",
    "import os\n",
    "\n",
    "\n",
    "path = os.path.abspath(\"spendings.xls\")"
   ]
  },
  {
   "cell_type": "code",
   "execution_count": 194,
   "metadata": {},
   "outputs": [],
   "source": [
    "def check_error(sheet):\n",
    "    \"\"\"Check if the chosen sheet can be opened or not.\"\"\"\n",
    "\n",
    "    try:\n",
    "        month_sheet = pd.read_excel(path, sheet_name=sheet)\n",
    "    except ValueError:\n",
    "        print(f\"Unable to find the sheet with the name '{sheet}'\\n\")\n",
    "        return (False,)\n",
    "    else:\n",
    "        date_sheet = month_year(sheet)\n",
    "        return (True, month_sheet, date_sheet)\n"
   ]
  },
  {
   "cell_type": "code",
   "execution_count": 195,
   "metadata": {},
   "outputs": [],
   "source": [
    "def month_year(sheet):\n",
    "    \"\"\"Function returning the requested month and related year.\"\"\"\n",
    "\n",
    "    months = ['January', 'February', 'March', 'April', 'May',\n",
    "             'June', 'July', 'August', 'September', 'October',\n",
    "             'November', 'December']\n",
    "    x = sheet.split('_')\n",
    "\n",
    "    for month in months:\n",
    "        if x[0] in month.lower():\n",
    "            return (month, x[1])\n"
   ]
  },
  {
   "cell_type": "code",
   "execution_count": 196,
   "metadata": {},
   "outputs": [],
   "source": [
    "def spendings(sheet):\n",
    "    \"\"\"Retrieve the datasheet of the chosen month and display its analytics.\"\"\"\n",
    "    \n",
    "    res = check_error(sheet)\n",
    "    if res[0] == True:\n",
    "        date = res[2]\n",
    "        print_analytics(res[1], date)\n",
    "    else:\n",
    "        return\n"
   ]
  },
  {
   "cell_type": "code",
   "execution_count": 197,
   "metadata": {},
   "outputs": [],
   "source": [
    "def view_month_datasheet(sheet):\n",
    "    \"\"\"Print the complete spendings datasheet of the chosen month.\"\"\"\n",
    "\n",
    "    res = check_error(sheet)\n",
    "    if res[0] == True:\n",
    "        date = res[2]\n",
    "        print(\"\\n\")\n",
    "        print(f\"\\t\\t\\n{date[0]} {date[1]} Complete Spendings Datasheet\")\n",
    "        print(\"-------------------------------------------------------\")\n",
    "        print(res[1])\n",
    "        print(\"-------------------------------------------------------\\n\") \n",
    "\n",
    "    else:\n",
    "        return\n"
   ]
  },
  {
   "cell_type": "code",
   "execution_count": 198,
   "metadata": {},
   "outputs": [],
   "source": [
    "def print_analytics(spendings, month_year):\n",
    "    \"\"\"Function calling other functions to display the analytics.\"\"\"\n",
    "    \n",
    "    print(\"\\n\")\n",
    "    print(\"********************************************\\n\")\n",
    "    print(f\"\\tAnalytics for {month_year[0]} {month_year[1]}\\n\")\n",
    "    print(\"********************************************\\n\")\n",
    "    total_spent(spendings, month_year[0])  # To print total money spent.\n",
    "    graph_categories(spendings, month_year)\n"
   ]
  },
  {
   "cell_type": "code",
   "execution_count": 199,
   "metadata": {},
   "outputs": [],
   "source": [
    "def total_spent(spendings, month):\n",
    "    \"\"\"This function will print the total spent in the current month.\"\"\"\n",
    "\n",
    "    total = spendings['Amount'].sum()\n",
    "    print(f\"Total spent in {month}: £{round(total, 2)}\\n\")\n"
   ]
  },
  {
   "cell_type": "code",
   "execution_count": 200,
   "metadata": {},
   "outputs": [],
   "source": [
    "def top_spendings(category):\n",
    "    \"\"\"Print categories table standings from highest to lowest spending.\"\"\"\n",
    "    \n",
    "    sorted_vals = sorted(category.values(), reverse=True) # Sort the values.\n",
    "    sorted_dict = {}\n",
    "    \n",
    "    for i in sorted_vals:\n",
    "        for k in category.keys():\n",
    "            if category[k] == i:\n",
    "                sorted_dict[k] = category[k]\n",
    "                break\n",
    "    \n",
    "    place = 1\n",
    "    print(\"Spendings from highest to lowest\")\n",
    "    print(\"-----------------------------------\")\n",
    "\n",
    "    for key, val in sorted_dict.items():\n",
    "        if key.lower() == \"transportation\":\n",
    "            key = \"Trans.\"\n",
    "        elif key.lower() == 'bills/taxes':\n",
    "            key = 'b./tax'\n",
    "        elif key.lower() == 'subscription':\n",
    "            key = 'Subscr.'\n",
    "        \n",
    "        if place >= 10:\n",
    "            print(f\"{place}.| {key}\\t\\t| £{val}\")\n",
    "        else:\n",
    "            print(f\"{place}. | {key}\\t\\t| £{val}\")\n",
    "\n",
    "        print(\"-----------------------------------\")\n",
    "        place += 1\n"
   ]
  },
  {
   "cell_type": "code",
   "execution_count": 201,
   "metadata": {},
   "outputs": [],
   "source": [
    "def categories_total(spendings):\n",
    "    \"\"\"Returns a dictionary with the total money spent for each category.\"\"\"\n",
    "    \n",
    "    category_headers = [\n",
    "        \"Rent\",\n",
    "        \"Bills/Taxes\",\n",
    "        \"Transportation\",\n",
    "        \"Grocery\",\n",
    "        \"Shopping\",\n",
    "        \"Subscription\",\n",
    "        \"Food\",\n",
    "        \"Drinks\",\n",
    "        \"Leisure\",\n",
    "        \"Vacation\",\n",
    "        \"Other\"\n",
    "    ]\n",
    "    \n",
    "    category_spendings = {}\n",
    "    \n",
    "    for category in category_headers:\n",
    "        category_spendings[category] = round(spendings[spendings[\"Category\"] == category][\"Amount\"].sum(), 2)\n",
    "        \n",
    "    keys = category_spendings.keys()\n",
    "    values = category_spendings.values()\n",
    "    \n",
    "    # Function to print categories table standings based on spendings.\n",
    "    top_spendings(category_spendings)\n",
    "    \n",
    "    return (keys, values)\n"
   ]
  },
  {
   "cell_type": "code",
   "execution_count": 202,
   "metadata": {},
   "outputs": [],
   "source": [
    "def graph_categories(spendings, date):\n",
    "    \"\"\"Bar chart of money spent per category.\"\"\"\n",
    "    \n",
    "    key_val = categories_total(spendings)\n",
    "    \n",
    "    plt.bar(key_val[0], key_val[1], color=['#919191', '#90BE6D', '#52796f', '#F9C74F', '#4D908E', '#F9844A', '#277DA1', '#7678ed'])\n",
    "    plt.title(f\"{date[0]} {date[1]} Spendings\", fontsize=18)\n",
    "    plt.xlabel(\"Categories\", fontsize=14)\n",
    "    plt.xticks(rotation=45)\n",
    "    plt.ylabel(\"Total spent (£)\", fontsize=14)\n",
    "\n",
    "    for index, value in enumerate(key_val[1]):\n",
    "        plt.text(index, value, f\"£{str(value)}\", ha='center', va='center', fontsize=12)\n",
    "    \n",
    "    plt.show()  # To show the graph plotted here and not at the end of the program.\n"
   ]
  },
  {
   "cell_type": "code",
   "execution_count": 203,
   "metadata": {},
   "outputs": [],
   "source": [
    "def all_months_progression():\n",
    "    \"\"\"Function to plot graph of past months progression\n",
    "       spendings.\"\"\"\n",
    "    \n",
    "    xls_file = pd.ExcelFile(path)\n",
    "    sheets = xls_file.sheet_names\n",
    "    count_sheets = range(0, len(sheets))\n",
    "\n",
    "    months_total = []\n",
    "    \n",
    "    for i in count_sheets:\n",
    "        # Read each sheet into a dataframe one at a time.\n",
    "        month = pd.read_excel(path, sheet_name=sheets[i])\n",
    "        total_spent = month['Amount'].sum()\n",
    "        months_total.append(round(total_spent, 2))\n",
    "    \n",
    "    plt.plot(range(len(sheets)), months_total)\n",
    "    plt.title(\"Monthly Spendings\", fontsize=18)\n",
    "    plt.xlabel(\"Months\", fontsize=14)\n",
    "    plt.xticks(range(len(sheets)), sheets, rotation=45)\n",
    "    plt.ylabel(\"Total Spent\", fontsize=14)\n",
    "    \n",
    "    # To display the total amount spent on each point.\n",
    "    for x, s in enumerate(months_total):\n",
    "        plt.text(x, s+30, \"£%d\" %s, ha=\"center\")\n",
    "    \n",
    "    plt.show()\n"
   ]
  },
  {
   "cell_type": "code",
   "execution_count": 204,
   "metadata": {},
   "outputs": [],
   "source": [
    "def category_progression(category):\n",
    "    xls_file = pd.ExcelFile(path)\n",
    "    sheets = xls_file.sheet_names\n",
    "    count_sheets = range(0, len(sheets))\n",
    "\n",
    "    months_total = []\n",
    "    \n",
    "    for i in count_sheets:\n",
    "        # Read each sheet into a dataframe one at a time.\n",
    "        month = pd.read_excel(path, sheet_name=sheets[i])\n",
    "        months_total.append(month[month[\"Category\"] == category][\"Amount\"].sum())\n",
    "    \n",
    "    plt.plot(range(len(sheets)), months_total)\n",
    "    plt.title(f\"{category}'s Monthly Spendings\", fontsize=18)\n",
    "    plt.xlabel(\"Months\", fontsize=14)\n",
    "    plt.xticks(range(len(sheets)), sheets, rotation=45)\n",
    "    plt.ylabel(f\"{category}'s Total Spend\", fontsize=14)\n",
    "    \n",
    "    # To display the total amount spent on each point.\n",
    "    for x, s in enumerate(months_total):\n",
    "        plt.text(x, s+30, \"£%d\" %s, ha=\"center\")\n",
    "    \n",
    "    plt.show()"
   ]
  },
  {
   "cell_type": "code",
   "execution_count": 205,
   "metadata": {},
   "outputs": [],
   "source": [
    "def check_category_exists():\n",
    "    \n",
    "    spendings_categories = [\n",
    "        \"bills/taxes\",\n",
    "        \"transportation\",\n",
    "        \"grocery\",\n",
    "        \"other\",\n",
    "        \"food\",\n",
    "        \"shopping\",\n",
    "        \"leisure\",\n",
    "        \"drinks\",\n",
    "        \"subscription\",\n",
    "        \"rent\",\n",
    "        \"vacation\",\n",
    "    ]\n",
    "    \n",
    "    while True:\n",
    "        print(\"\"\"\n",
    "            Which category's progression spending do you want to print?\n",
    "            - Bills/Taxes\n",
    "            - Transportation\n",
    "            - Grocery\n",
    "            - Other\n",
    "            - Food\n",
    "            - Shopping\n",
    "            - Leisure\n",
    "            - Drinks\n",
    "            - Subscription\n",
    "            - Rent\n",
    "            - Vacation\n",
    "        \"\"\")\n",
    "\n",
    "        category = input()\n",
    "        \n",
    "        if category.lower() in spendings_categories:\n",
    "            return category\n",
    "        else:\n",
    "            print(\"\\nPLEASE CHOOSE FROM ONE OF THE AVAILABLE CATEGORIES\\n\")\n",
    "    "
   ]
  },
  {
   "cell_type": "code",
   "execution_count": 206,
   "metadata": {},
   "outputs": [
    {
     "name": "stdout",
     "output_type": "stream",
     "text": [
      "\n",
      "        \n",
      "\n",
      "        \t\tMAIN MENU\n",
      "        1) View a month's spendings analytics.\n",
      "        2) Print a month's spendings datasheet.\n",
      "        3) View the progression spending of past months.\n",
      "        4) View a category's monthly progression spending.\n",
      "        5) Exit program.\n",
      "    \n",
      "\n",
      "Choose an option 1 to 5: 4\n",
      "\n",
      "            Which category's progression spending do you want to print?\n",
      "            - Bills/Taxes\n",
      "            - Transportation\n",
      "            - Grocery\n",
      "            - Other\n",
      "            - Food\n",
      "            - Shopping\n",
      "            - Leisure\n",
      "            - Drinks\n",
      "            - Subscription\n",
      "            - Rent\n",
      "            - Vacation\n",
      "        \n",
      "Subscription\n"
     ]
    },
    {
     "data": {
      "image/png": "[encoded data removed]",
      "text/plain": [
       "<Figure size 432x288 with 1 Axes>"
      ]
     },
     "metadata": {
      "needs_background": "light"
     },
     "output_type": "display_data"
    },
    {
     "name": "stdout",
     "output_type": "stream",
     "text": [
      "\n",
      "        \n",
      "\n",
      "        \t\tMAIN MENU\n",
      "        1) View a month's spendings analytics.\n",
      "        2) Print a month's spendings datasheet.\n",
      "        3) View the progression spending of past months.\n",
      "        4) View a category's monthly progression spending.\n",
      "        5) Exit program.\n",
      "    \n",
      "\n",
      "Choose an option 1 to 5: 4\n",
      "\n",
      "            Which category's progression spending do you want to print?\n",
      "            - Bills/Taxes\n",
      "            - Transportation\n",
      "            - Grocery\n",
      "            - Other\n",
      "            - Food\n",
      "            - Shopping\n",
      "            - Leisure\n",
      "            - Drinks\n",
      "            - Subscription\n",
      "            - Rent\n",
      "            - Vacation\n",
      "        \n",
      "Shopping\n"
     ]
    },
    {
     "data": {
      "image/png": "[encoded data removed]",
      "text/plain": [
       "<Figure size 432x288 with 1 Axes>"
      ]
     },
     "metadata": {
      "needs_background": "light"
     },
     "output_type": "display_data"
    },
    {
     "name": "stdout",
     "output_type": "stream",
     "text": [
      "\n",
      "        \n",
      "\n",
      "        \t\tMAIN MENU\n",
      "        1) View a month's spendings analytics.\n",
      "        2) Print a month's spendings datasheet.\n",
      "        3) View the progression spending of past months.\n",
      "        4) View a category's monthly progression spending.\n",
      "        5) Exit program.\n",
      "    \n"
     ]
    },
    {
     "ename": "KeyboardInterrupt",
     "evalue": "Interrupted by user",
     "output_type": "error",
     "traceback": [
      "\u001b[0;31m---------------------------------------------------------------------------\u001b[0m",
      "\u001b[0;31mKeyboardInterrupt\u001b[0m                         Traceback (most recent call last)",
      "\u001b[0;32m<ipython-input-206-59cde52fe436>\u001b[0m in \u001b[0;36m<module>\u001b[0;34m\u001b[0m\n\u001b[1;32m     11\u001b[0m     \"\"\")\n\u001b[1;32m     12\u001b[0m \u001b[0;34m\u001b[0m\u001b[0m\n\u001b[0;32m---> 13\u001b[0;31m     \u001b[0mchoice\u001b[0m \u001b[0;34m=\u001b[0m \u001b[0minput\u001b[0m\u001b[0;34m(\u001b[0m\u001b[0;34m\"\\nChoose an option 1 to 5: \"\u001b[0m\u001b[0;34m)\u001b[0m\u001b[0;34m\u001b[0m\u001b[0;34m\u001b[0m\u001b[0m\n\u001b[0m\u001b[1;32m     14\u001b[0m \u001b[0;34m\u001b[0m\u001b[0m\n\u001b[1;32m     15\u001b[0m     \u001b[0;32mif\u001b[0m \u001b[0mchoice\u001b[0m \u001b[0;34m==\u001b[0m \u001b[0;34m'1'\u001b[0m\u001b[0;34m:\u001b[0m\u001b[0;34m\u001b[0m\u001b[0;34m\u001b[0m\u001b[0m\n",
      "\u001b[0;32m~/opt/anaconda3/lib/python3.8/site-packages/ipykernel/kernelbase.py\u001b[0m in \u001b[0;36mraw_input\u001b[0;34m(self, prompt)\u001b[0m\n\u001b[1;32m    858\u001b[0m                 \u001b[0;34m\"raw_input was called, but this frontend does not support input requests.\"\u001b[0m\u001b[0;34m\u001b[0m\u001b[0;34m\u001b[0m\u001b[0m\n\u001b[1;32m    859\u001b[0m             )\n\u001b[0;32m--> 860\u001b[0;31m         return self._input_request(str(prompt),\n\u001b[0m\u001b[1;32m    861\u001b[0m             \u001b[0mself\u001b[0m\u001b[0;34m.\u001b[0m\u001b[0m_parent_ident\u001b[0m\u001b[0;34m,\u001b[0m\u001b[0;34m\u001b[0m\u001b[0;34m\u001b[0m\u001b[0m\n\u001b[1;32m    862\u001b[0m             \u001b[0mself\u001b[0m\u001b[0;34m.\u001b[0m\u001b[0m_parent_header\u001b[0m\u001b[0;34m,\u001b[0m\u001b[0;34m\u001b[0m\u001b[0;34m\u001b[0m\u001b[0m\n",
      "\u001b[0;32m~/opt/anaconda3/lib/python3.8/site-packages/ipykernel/kernelbase.py\u001b[0m in \u001b[0;36m_input_request\u001b[0;34m(self, prompt, ident, parent, password)\u001b[0m\n\u001b[1;32m    902\u001b[0m             \u001b[0;32mexcept\u001b[0m \u001b[0mKeyboardInterrupt\u001b[0m\u001b[0;34m:\u001b[0m\u001b[0;34m\u001b[0m\u001b[0;34m\u001b[0m\u001b[0m\n\u001b[1;32m    903\u001b[0m                 \u001b[0;31m# re-raise KeyboardInterrupt, to truncate traceback\u001b[0m\u001b[0;34m\u001b[0m\u001b[0;34m\u001b[0m\u001b[0;34m\u001b[0m\u001b[0m\n\u001b[0;32m--> 904\u001b[0;31m                 \u001b[0;32mraise\u001b[0m \u001b[0mKeyboardInterrupt\u001b[0m\u001b[0;34m(\u001b[0m\u001b[0;34m\"Interrupted by user\"\u001b[0m\u001b[0;34m)\u001b[0m \u001b[0;32mfrom\u001b[0m \u001b[0;32mNone\u001b[0m\u001b[0;34m\u001b[0m\u001b[0;34m\u001b[0m\u001b[0m\n\u001b[0m\u001b[1;32m    905\u001b[0m             \u001b[0;32mexcept\u001b[0m \u001b[0mException\u001b[0m \u001b[0;32mas\u001b[0m \u001b[0me\u001b[0m\u001b[0;34m:\u001b[0m\u001b[0;34m\u001b[0m\u001b[0;34m\u001b[0m\u001b[0m\n\u001b[1;32m    906\u001b[0m                 \u001b[0mself\u001b[0m\u001b[0;34m.\u001b[0m\u001b[0mlog\u001b[0m\u001b[0;34m.\u001b[0m\u001b[0mwarning\u001b[0m\u001b[0;34m(\u001b[0m\u001b[0;34m\"Invalid Message:\"\u001b[0m\u001b[0;34m,\u001b[0m \u001b[0mexc_info\u001b[0m\u001b[0;34m=\u001b[0m\u001b[0;32mTrue\u001b[0m\u001b[0;34m)\u001b[0m\u001b[0;34m\u001b[0m\u001b[0;34m\u001b[0m\u001b[0m\n",
      "\u001b[0;31mKeyboardInterrupt\u001b[0m: Interrupted by user"
     ]
    }
   ],
   "source": [
    "while True:\n",
    "    \n",
    "    print(\"\"\"\n",
    "        \\n\n",
    "        \\t\\tMAIN MENU\n",
    "        1) View a month's spendings analytics.\n",
    "        2) Print a month's spendings datasheet.\n",
    "        3) View the progression spending of past months.\n",
    "        4) View a category's monthly progression spending.\n",
    "        5) Exit program.\n",
    "    \"\"\")\n",
    "    \n",
    "    choice = input(\"\\nChoose an option 1 to 5: \")\n",
    "    \n",
    "    if choice == '1':\n",
    "        print(\"Which month's analytics do you want to view?\")\n",
    "        month_chosen = input(\"(i.e. 'jan_2023'): \")\n",
    "        spendings(month_chosen)\n",
    "\n",
    "    elif choice == '2':\n",
    "        print(\"Which month's spendings datasheet do you want to get?\")\n",
    "        month_chosen = input(\"(i.e. 'jan_2023'): \")\n",
    "        view_month_datasheet(month_chosen)\n",
    "        \n",
    "    elif choice == '3':\n",
    "        print()\n",
    "        all_months_progression()\n",
    "        \n",
    "    elif choice == '4':\n",
    "        category = check_category_exists()\n",
    "        category_progression(category)\n",
    "\n",
    "    elif choice == '5':\n",
    "        print(\"\\nGoodbye and see you next time Luca :)\")\n",
    "        break\n",
    "    \n",
    "    else:\n",
    "        print(\"Please select a valid entry between 1 and 3.\")\n"
   ]
  },
  {
   "cell_type": "code",
   "execution_count": null,
   "metadata": {},
   "outputs": [],
   "source": []
  }
 ],
 "metadata": {
  "interpreter": {
   "hash": "aee8b7b246df8f9039afb4144a1f6fd8d2ca17a180786b69acc140d282b71a49"
  },
  "kernelspec": {
   "display_name": "Python 3",
   "language": "python",
   "name": "python3"
  },
  "language_info": {
   "codemirror_mode": {
    "name": "ipython",
    "version": 3
   },
   "file_extension": ".py",
   "mimetype": "text/x-python",
   "name": "python",
   "nbconvert_exporter": "python",
   "pygments_lexer": "ipython3",
   "version": "3.8.5"
  }
 },
 "nbformat": 4,
 "nbformat_minor": 2
}
